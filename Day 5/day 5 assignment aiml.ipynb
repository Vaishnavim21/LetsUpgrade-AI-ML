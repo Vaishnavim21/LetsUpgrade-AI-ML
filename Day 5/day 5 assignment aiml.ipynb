{
 "cells": [
  {
   "cell_type": "markdown",
   "metadata": {},
   "source": [
    "# Question 1:\n"
   ]
  },
  {
   "cell_type": "markdown",
   "metadata": {},
   "source": [
    "Write a Python program to find the first 20 non-even prime natural numbers"
   ]
  },
  {
   "cell_type": "code",
   "execution_count": 101,
   "metadata": {},
   "outputs": [
    {
     "name": "stdout",
     "output_type": "stream",
     "text": [
      "How many prime numbers would ypu like to print?20\n",
      "\n",
      " Here are the first 20 non-even prime numbers:\n",
      "\n",
      "3  5  7  11  13  17  19  23  29  31  37  41  43  47  53  59  61  67  71  73  "
     ]
    }
   ],
   "source": [
    "n=int(input(\"How many prime numbers would ypu like to print?\"))\n",
    "nos=range(1,n*10)\n",
    "prime_nos = []\n",
    "\n",
    "for num in nos:\n",
    "    if num > 2 and len(prime_nos)<=n-1:\n",
    "        for i in range(2,num):\n",
    "            if(num%i)==0:\n",
    "                break\n",
    "        else:\n",
    "            prime_nos.append(num)\n",
    "print(\"\\n Here are the first\",n,\"non-even prime numbers:\\n\")\n",
    "for x in prime_nos:\n",
    "    print(x,end=\"  \")\n",
    "            "
   ]
  },
  {
   "cell_type": "markdown",
   "metadata": {},
   "source": [
    "# Question 2:"
   ]
  },
  {
   "cell_type": "markdown",
   "metadata": {},
   "source": [
    "Write a Python program to implement 15 functions of string. "
   ]
  },
  {
   "cell_type": "code",
   "execution_count": 102,
   "metadata": {},
   "outputs": [
    {
     "name": "stdout",
     "output_type": "stream",
     "text": [
      "Artificial intelligence and machine learning are very interesting topics and i love to learn them.\n",
      "8\n",
      "b'artificial intelligence and machine learning are very interesting topics and I love to learn them.'\n",
      "artificial intelligence and machine learning are very interesting topics and we love to learn them.\n",
      "['artificial', 'intelligence', 'and', 'machine', 'learning', 'are', 'very', 'interesting', 'topics', 'and', 'I', 'love', 'to', 'learn', 'them.']\n",
      "ARTIFICIAL INTELLIGENCE AND MACHINE LEARNING ARE VERY INTERESTING TOPICS AND i LOVE TO LEARN THEM.\n",
      "artificial intelligence and machine learning are very interesting topics and i love to learn them.\n",
      "ARTIFICIAL INTELLIGENCE AND MACHINE LEARNING ARE VERY INTERESTING TOPICS AND I LOVE TO LEARN THEM.\n",
      "True\n",
      "28\n",
      "False\n",
      "False\n",
      "False\n",
      "False\n",
      "False\n"
     ]
    }
   ],
   "source": [
    "a=\"artificial intelligence and machine learning are very interesting topics and I love to learn them.\"\n",
    "print(a.capitalize()) #to capitalize the first letter of the string\n",
    "print(a.count('a')) #to count the no.of occurances\n",
    "print(a.encode()) #returns the encoded version of the string\n",
    "print(a.replace(\"I\",\"we\")) #replacement\n",
    "print(a.split()) #split method\n",
    "print(a.swapcase()) #swaps the case\n",
    "print(a.lower()) #lowercase\n",
    "print(a.upper()) #uppercase\n",
    "print(a.endswith('.')) #endwith\n",
    "print(a.find('machine')) #ind\n",
    "print(a.isalnum()) #to find if the string is num\n",
    "print(a.isalpha()) #to find if the string is alpha\n",
    "print(a.isdigit()) #isdigit\n",
    "print(a.islower()) #is lower\n",
    "print(a.istitle()) #is title"
   ]
  },
  {
   "cell_type": "markdown",
   "metadata": {},
   "source": [
    "# Question 3:"
   ]
  },
  {
   "cell_type": "markdown",
   "metadata": {},
   "source": [
    "Write a Python program to check if the given string is a Palindrome or Anagram or None of them. Display the message accordingly to the user. "
   ]
  },
  {
   "cell_type": "code",
   "execution_count": 103,
   "metadata": {},
   "outputs": [
    {
     "name": "stdout",
     "output_type": "stream",
     "text": [
      "Enter 1st string of your choice:dad\n",
      "Enter 2nd string of your choice:add\n",
      "Entered string is an Anagram\n",
      "The entered string is an palindrome\n"
     ]
    }
   ],
   "source": [
    "s=str(input(\"Enter 1st string of your choice:\"))\n",
    "t=str(input(\"Enter 2nd string of your choice:\"))\n",
    "def natureof_string():\n",
    "    if sorted(s)==sorted(t):\n",
    "        print(\"Entered string is an Anagram\")\n",
    "        if s==s[::-1]:\n",
    "            print(\"The entered string is an palindrome\")\n",
    "    else:\n",
    "        print(\"The entered string is neither a palindrome not an anagram\")\n",
    "natureof_string()            \n",
    "            "
   ]
  },
  {
   "cell_type": "markdown",
   "metadata": {},
   "source": [
    "# Question 4:"
   ]
  },
  {
   "cell_type": "markdown",
   "metadata": {},
   "source": [
    "Write a Python's user defined function that removes all the additional characters from the string and converts it finally to lower case using built-in lower(). eg: If the string is \"Dr. Darshan Ingle @AI-ML Trainer\", then the output be \"drdarshaningle aimltrainer\". "
   ]
  },
  {
   "cell_type": "code",
   "execution_count": 104,
   "metadata": {},
   "outputs": [
    {
     "name": "stdout",
     "output_type": "stream",
     "text": [
      "vaishnavim\n"
     ]
    }
   ],
   "source": [
    "def remove_str(s):\n",
    "    characters_to_remove = \" .!@-*#$%^()= \"\n",
    "    new_s = s\n",
    "    for char in characters_to_remove:\n",
    "        new_s = new_s.lower().replace(char,\"\")\n",
    "    print(new_s)\n",
    "remove_str(\"Va@i!s$h%navi*()=.M\")    "
   ]
  }
 ],
 "metadata": {
  "kernelspec": {
   "display_name": "Python 3",
   "language": "python",
   "name": "python3"
  },
  "language_info": {
   "codemirror_mode": {
    "name": "ipython",
    "version": 3
   },
   "file_extension": ".py",
   "mimetype": "text/x-python",
   "name": "python",
   "nbconvert_exporter": "python",
   "pygments_lexer": "ipython3",
   "version": "3.7.6"
  }
 },
 "nbformat": 4,
 "nbformat_minor": 4
}
