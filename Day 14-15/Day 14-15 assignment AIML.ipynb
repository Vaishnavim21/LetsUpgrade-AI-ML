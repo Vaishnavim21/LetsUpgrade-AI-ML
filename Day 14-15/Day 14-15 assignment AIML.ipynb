{
 "cells": [
  {
   "cell_type": "markdown",
   "metadata": {},
   "source": [
    "# 1. Create a 3x3x3 array with random values"
   ]
  },
  {
   "cell_type": "code",
   "execution_count": 2,
   "metadata": {},
   "outputs": [
    {
     "name": "stdout",
     "output_type": "stream",
     "text": [
      "The Array is-\n",
      "[[[6.23042070e-307 4.67296746e-307 1.69121096e-306]\n",
      "  [1.95820760e-306 3.22643519e-307 7.56599807e-307]\n",
      "  [8.90104239e-307 3.33776697e-307 9.79054228e-307]]\n",
      "\n",
      " [[9.34598926e-307 9.34583987e-307 1.37961505e-306]\n",
      "  [1.60219035e-306 8.01097889e-307 1.78020169e-306]\n",
      "  [7.56601165e-307 1.02359984e-306 1.33510679e-306]]\n",
      "\n",
      " [[2.22522597e-306 1.24611674e-306 1.29061821e-306]\n",
      "  [6.23057349e-307 1.29062025e-306 6.89807188e-307]\n",
      "  [2.22522596e-306 1.42404727e-306 1.11253693e-308]]]\n",
      "The Shape of Array is-\n",
      "(3, 3, 3)\n"
     ]
    }
   ],
   "source": [
    "import numpy as np\n",
    "a=np.empty((3,3,3))#creates an random  array of order 3X3X3\n",
    "print(\"The Array is-\")\n",
    "print(a)\n",
    "print(\"The Shape of Array is-\")\n",
    "print(a.shape)"
   ]
  },
  {
   "cell_type": "markdown",
   "metadata": {},
   "source": [
    "# 2.Create a 5x5 matrix with values 1,2,3,4 just below the diagonal"
   ]
  },
  {
   "cell_type": "code",
   "execution_count": 3,
   "metadata": {},
   "outputs": [
    {
     "name": "stdout",
     "output_type": "stream",
     "text": [
      "Initial Matrix-\n",
      "[[0. 0. 0. 0. 0.]\n",
      " [0. 0. 0. 0. 0.]\n",
      " [0. 0. 0. 0. 0.]\n",
      " [0. 0. 0. 0. 0.]\n",
      " [0. 0. 0. 0. 0.]]\n",
      "Final Matrix-\n",
      "[[0. 0. 0. 0. 0.]\n",
      " [1. 0. 0. 0. 0.]\n",
      " [0. 2. 0. 0. 0.]\n",
      " [0. 0. 3. 0. 0.]\n",
      " [0. 0. 0. 4. 0.]]\n"
     ]
    }
   ],
   "source": [
    "b=np.zeros((5,5))#creates a zeros matrix of specified order\n",
    "print(\"Initial Matrix-\")\n",
    "print(b)\n",
    "for i in range(len(b)):\n",
    "    for j in range(len(b)):\n",
    "        if(i==j+1):\n",
    "            b[i][j]=i\n",
    "print(\"Final Matrix-\")\n",
    "print(b)"
   ]
  },
  {
   "cell_type": "markdown",
   "metadata": {},
   "source": [
    "# 3.Create a 8x8 matrix and fill it with a checkerboard pattern"
   ]
  },
  {
   "cell_type": "raw",
   "metadata": {},
   "source": [
    "Checkerboard pattern consist of black and white color alternatively in 8X8 grid, here BLACK is represented as 0 and WHITE is represented as 255."
   ]
  },
  {
   "cell_type": "code",
   "execution_count": 4,
   "metadata": {},
   "outputs": [
    {
     "name": "stdout",
     "output_type": "stream",
     "text": [
      "Initial Matrix-\n",
      "[[0. 0. 0. 0. 0. 0. 0. 0.]\n",
      " [0. 0. 0. 0. 0. 0. 0. 0.]\n",
      " [0. 0. 0. 0. 0. 0. 0. 0.]\n",
      " [0. 0. 0. 0. 0. 0. 0. 0.]\n",
      " [0. 0. 0. 0. 0. 0. 0. 0.]\n",
      " [0. 0. 0. 0. 0. 0. 0. 0.]\n",
      " [0. 0. 0. 0. 0. 0. 0. 0.]\n",
      " [0. 0. 0. 0. 0. 0. 0. 0.]]\n",
      "Final Matrix-\n",
      "[[  0. 255.   0. 255.   0. 255.   0. 255.]\n",
      " [  0. 255.   0. 255.   0. 255.   0. 255.]\n",
      " [  0. 255.   0. 255.   0. 255.   0. 255.]\n",
      " [  0. 255.   0. 255.   0. 255.   0. 255.]\n",
      " [  0. 255.   0. 255.   0. 255.   0. 255.]\n",
      " [  0. 255.   0. 255.   0. 255.   0. 255.]\n",
      " [  0. 255.   0. 255.   0. 255.   0. 255.]\n",
      " [  0. 255.   0. 255.   0. 255.   0. 255.]]\n"
     ]
    }
   ],
   "source": [
    "c=np.zeros((8,8))#creates a zeros matrix of specified order \n",
    "print(\"Initial Matrix-\")\n",
    "print(c)\n",
    "for i in range(len(c)):\n",
    "    for j in range(len(c)):\n",
    "        if(j%2!=0):\n",
    "            c[i][j]=255\n",
    "print(\"Final Matrix-\")\n",
    "print(c)"
   ]
  },
  {
   "cell_type": "markdown",
   "metadata": {},
   "source": [
    "# 4. Normalize a 5x5 random matrix"
   ]
  },
  {
   "cell_type": "code",
   "execution_count": 5,
   "metadata": {},
   "outputs": [
    {
     "name": "stdout",
     "output_type": "stream",
     "text": [
      "The random matrix is-\n",
      "[[ 0.48235768 -0.51616765  1.16486502  0.47109256  0.29672747]\n",
      " [ 0.49010497  0.48793111  0.27100201 -2.17798913  0.55462808]\n",
      " [-1.36968638  1.12279948 -0.60047261  0.71678265  0.01728035]\n",
      " [-0.91196371 -0.18368924 -1.26115028 -0.06433866 -0.5665748 ]\n",
      " [ 0.51347817  1.46499638  0.28413164  1.07447794  1.57387749]]\n",
      "The norm value of random matrix is-\n",
      "4.547920580812293\n",
      "The normalized random mattrix is-\n",
      "[[ 0.10606115 -0.11349531  0.25613135  0.10358417  0.06524465]\n",
      " [ 0.10776463  0.10728664  0.05958811 -0.47889779  0.12195201]\n",
      " [-0.30116761  0.24688195 -0.13203234  0.15760668  0.00379962]\n",
      " [-0.20052323 -0.04038972 -0.27730262 -0.01414683 -0.12457887]\n",
      " [ 0.11290394  0.32212444  0.06247507  0.23625697  0.3460653 ]]\n"
     ]
    }
   ],
   "source": [
    "d=np.random.randn(5,5)#creates a matrix of specified filled with random numbers\n",
    "print(\"The random matrix is-\")\n",
    "print(d)\n",
    "normal=np.linalg.norm(d)#computes the norm of the given matrix \n",
    "print(\"The norm value of random matrix is-\")\n",
    "print(normal)\n",
    "e=np.divide(d,normal)#computes the normalized matrix\n",
    "print(\"The normalized random mattrix is-\")\n",
    "print(e)"
   ]
  },
  {
   "cell_type": "markdown",
   "metadata": {},
   "source": [
    "# 5. How to find common values between two arrays?"
   ]
  },
  {
   "cell_type": "code",
   "execution_count": 6,
   "metadata": {},
   "outputs": [
    {
     "name": "stdout",
     "output_type": "stream",
     "text": [
      "The 1st array is-\n",
      "[1 2 3 4 5]\n",
      "The 2nd array is-\n",
      "[ 2  4  6  8 10]\n",
      "Common values between two arrays are-\n",
      "[2 4]\n"
     ]
    }
   ],
   "source": [
    "f=np.array([1,2,3,4,5])\n",
    "print(\"The 1st array is-\")\n",
    "print(f)\n",
    "g=np.array([2,4,6,8,10])\n",
    "print(\"The 2nd array is-\")\n",
    "print(g)\n",
    "com_values=np.intersect1d(f,g)#computes common values in two input arrays\n",
    "print(\"Common values between two arrays are-\")\n",
    "print(com_values)"
   ]
  },
  {
   "cell_type": "markdown",
   "metadata": {},
   "source": [
    "# 6.How to get the dates of yesterday, today and tomorrow?"
   ]
  },
  {
   "cell_type": "code",
   "execution_count": 7,
   "metadata": {},
   "outputs": [
    {
     "name": "stdout",
     "output_type": "stream",
     "text": [
      "Yestraday's Date:  2020-07-25\n",
      "Today's Date:  2020-07-26\n",
      "Tomorrow's Date:  2020-07-27\n"
     ]
    }
   ],
   "source": [
    "yesterday =np.datetime64('today', 'D') - np.timedelta64(1, 'D')\n",
    "print(\"Yestraday's Date: \",yesterday)\n",
    "today= np.datetime64('today', 'D')\n",
    "print(\"Today's Date: \",today)\n",
    "tomorrow= np.datetime64('today', 'D') + np.timedelta64(1, 'D')\n",
    "print(\"Tomorrow's Date: \",tomorrow)"
   ]
  },
  {
   "cell_type": "markdown",
   "metadata": {},
   "source": [
    "# 7. Consider two random array A and B, check if they are equal"
   ]
  },
  {
   "cell_type": "code",
   "execution_count": 8,
   "metadata": {},
   "outputs": [
    {
     "name": "stdout",
     "output_type": "stream",
     "text": [
      "Output is True if two arrays are equal\n",
      "Output is False if two arrays are equal\n",
      "Output: True\n"
     ]
    }
   ],
   "source": [
    "h=np.array([1,2,3])\n",
    "i=np.array([1,2,3])\n",
    "comparison = h == i\n",
    "equal_arrays = comparison.all()#compare two arrays and returns boolean expression\n",
    "print(\"Output is True if two arrays are equal\")\n",
    "print(\"Output is False if two arrays are equal\")\n",
    "print(\"Output:\",equal_arrays)"
   ]
  },
  {
   "cell_type": "code",
   "execution_count": 9,
   "metadata": {},
   "outputs": [
    {
     "name": "stdout",
     "output_type": "stream",
     "text": [
      "Output is True if two arrays are equal\n",
      "Output is False if two arrays are equal\n",
      "Output: False\n"
     ]
    }
   ],
   "source": [
    "h=np.array([1,2,3])\n",
    "i=np.array([4,5,6])\n",
    "comparison = h == i\n",
    "equal_arrays = comparison.all()\n",
    "print(\"Output is True if two arrays are equal\")\n",
    "print(\"Output is False if two arrays are equal\")\n",
    "print(\"Output:\",equal_arrays)"
   ]
  },
  {
   "cell_type": "markdown",
   "metadata": {},
   "source": [
    "# 8.Create random vector of size 10 and replace the maximum value by 0"
   ]
  },
  {
   "cell_type": "code",
   "execution_count": 10,
   "metadata": {},
   "outputs": [
    {
     "name": "stdout",
     "output_type": "stream",
     "text": [
      "The random vector is-\n",
      "[[-0.03413999]\n",
      " [ 0.7951733 ]\n",
      " [-1.4477217 ]\n",
      " [ 0.69673216]\n",
      " [ 1.36107518]\n",
      " [ 1.07660192]\n",
      " [ 1.02453404]\n",
      " [-0.25168064]\n",
      " [ 0.57316233]\n",
      " [ 0.27620562]]\n",
      "The maximum value in the vector is-\n",
      "1.3610751824207612\n",
      "The new vector is-\n",
      "[[-0.03413999]\n",
      " [ 0.7951733 ]\n",
      " [-1.4477217 ]\n",
      " [ 0.69673216]\n",
      " [ 0.        ]\n",
      " [ 1.07660192]\n",
      " [ 1.02453404]\n",
      " [-0.25168064]\n",
      " [ 0.57316233]\n",
      " [ 0.27620562]]\n"
     ]
    }
   ],
   "source": [
    "vec=np.random.randn(10,1)#creates a random vector of given order\n",
    "print(\"The random vector is-\")\n",
    "print(vec)\n",
    "max_val=np.amax(vec)#computes the maximum value from a given vector\n",
    "print(\"The maximum value in the vector is-\")\n",
    "print(max_val)\n",
    "loc=np.where(vec==max_val)#find the index of the maximum value\n",
    "vec[loc]=0\n",
    "print(\"The new vector is-\")\n",
    "print(vec)"
   ]
  },
  {
   "cell_type": "markdown",
   "metadata": {},
   "source": [
    "# 9. How to print all the values of an array?"
   ]
  },
  {
   "cell_type": "code",
   "execution_count": 11,
   "metadata": {},
   "outputs": [
    {
     "name": "stdout",
     "output_type": "stream",
     "text": [
      "The array is:\n",
      "[ 0.76508359 -2.29245283  1.35917658]\n",
      "The element at index( 0 ) is: 0.7650835927247875\n",
      "The element at index( 1 ) is: -2.2924528272990266\n",
      "The element at index( 2 ) is: 1.3591765847857575\n"
     ]
    }
   ],
   "source": [
    "l=np.random.randn(3,)#creates a random array of given order\n",
    "print(\"The array is:\")\n",
    "print(l)\n",
    "for i in range(len(l)):\n",
    "    print(\"The element at index(\",i,\") is:\",l[i])"
   ]
  },
  {
   "cell_type": "code",
   "execution_count": 12,
   "metadata": {},
   "outputs": [
    {
     "name": "stdout",
     "output_type": "stream",
     "text": [
      "The array is:\n",
      "[[ 0.1246985   0.28299555 -1.90417455]\n",
      " [ 0.18755522  0.37933311  1.47890851]\n",
      " [ 0.48424163  1.18128457  1.81701323]]\n",
      "The element at index( 0 , 0 )is: 0.12469849972623377\n",
      "The element at index( 0 , 1 )is: 0.28299554784375663\n",
      "The element at index( 0 , 2 )is: -1.9041745465959785\n",
      "The element at index( 1 , 0 )is: 0.18755521885152385\n",
      "The element at index( 1 , 1 )is: 0.379333107866843\n",
      "The element at index( 1 , 2 )is: 1.4789085146508985\n",
      "The element at index( 2 , 0 )is: 0.4842416273247458\n",
      "The element at index( 2 , 1 )is: 1.1812845663029183\n",
      "The element at index( 2 , 2 )is: 1.8170132317470864\n"
     ]
    }
   ],
   "source": [
    "l=np.random.randn(3,3)#creates a random array of given order\n",
    "print(\"The array is:\")\n",
    "print(l)\n",
    "for i in range(len(l)):\n",
    "    for j in range(len(l)):\n",
    "        print(\"The element at index(\",i,\",\",j,\")is:\",l[i][j])"
   ]
  },
  {
   "cell_type": "markdown",
   "metadata": {},
   "source": [
    "# 10.Subtract the mean of each row of a matrix"
   ]
  },
  {
   "cell_type": "code",
   "execution_count": 13,
   "metadata": {},
   "outputs": [
    {
     "name": "stdout",
     "output_type": "stream",
     "text": [
      "The matrix is-\n",
      "[[ 0.63240475 -0.3014075   0.91496677]\n",
      " [ 0.62132604 -0.90906708 -0.64540132]\n",
      " [-0.53588728 -0.2984367   0.07797309]]\n",
      "The mean value of each row is-\n",
      "[ 0.41532134 -0.31104745 -0.25211696]\n",
      "The matrix after the mean is subtracted-\n",
      "[[ 0.21708341  0.00963996  1.16708373]\n",
      " [ 0.2060047  -0.59801962 -0.39328436]\n",
      " [-0.95120862  0.01261075  0.33009006]]\n"
     ]
    }
   ],
   "source": [
    "arr=np.random.randn(3,3)#creates a random matrix of given order\n",
    "print(\"The matrix is-\")\n",
    "print(arr)\n",
    "print(\"The mean value of each row is-\")\n",
    "arr1=np.mean(arr,axis=1)#computes the mean of each row\n",
    "print(arr1)\n",
    "arr2=arr-arr1\n",
    "print(\"The matrix after the mean is subtracted-\")\n",
    "print(arr2)"
   ]
  },
  {
   "cell_type": "markdown",
   "metadata": {},
   "source": [
    "# 11.Consider a given vector, how to add 1 to each element indexed by a second vector (be careful with repeated indices)?"
   ]
  },
  {
   "cell_type": "code",
   "execution_count": 14,
   "metadata": {},
   "outputs": [
    {
     "name": "stdout",
     "output_type": "stream",
     "text": [
      "The original vector is:\n",
      "[[ 0.45018474]\n",
      " [-1.91367085]\n",
      " [-0.41517137]\n",
      " [ 0.79518224]\n",
      " [-0.2442316 ]\n",
      " [ 0.27338978]\n",
      " [-0.10248207]\n",
      " [ 1.04151811]\n",
      " [-1.08820549]\n",
      " [-0.54147853]]\n",
      "The Index values are:\n",
      "[1 4 1 6]\n",
      "Final vector after adding 1 to corresponding elements at the specified indices:\n",
      "[[ 0.45018474]\n",
      " [ 0.08632915]\n",
      " [-0.41517137]\n",
      " [ 0.79518224]\n",
      " [ 0.7557684 ]\n",
      " [ 0.27338978]\n",
      " [ 0.89751793]\n",
      " [ 1.04151811]\n",
      " [-1.08820549]\n",
      " [-0.54147853]]\n"
     ]
    }
   ],
   "source": [
    "Z = np.random.randn(10,1)#creates a random vector of given order\n",
    "print(\"The original vector is:\")\n",
    "print(Z)\n",
    "I=np.random.randint(0,len(Z),4)#generates 4 random integers in a specified range,used as index values\n",
    "print(\"The Index values are:\")\n",
    "print(I)\n",
    "print(\"Final vector after adding 1 to corresponding elements at the specified indices:\")\n",
    "np.add.at(Z,I,1)#Adds 1 to the elements in given vector (Z) at the specified index values(I)\n",
    "print(Z)"
   ]
  },
  {
   "cell_type": "markdown",
   "metadata": {},
   "source": [
    "# 12.How to get the diagonal of a dot product?"
   ]
  },
  {
   "cell_type": "code",
   "execution_count": 15,
   "metadata": {},
   "outputs": [
    {
     "name": "stdout",
     "output_type": "stream",
     "text": [
      "The first 3X3 array is- \n",
      "[[ 0.24816917  0.28775726  0.09279286]\n",
      " [-0.41982536 -0.52175898  0.57832038]\n",
      " [ 0.10846351  1.44884324  0.54897602]]\n",
      "The second 3X3 array is- \n",
      "[[-1.94571187 -0.1856822   0.17207192]\n",
      " [-0.91458085  0.24720413  1.8773639 ]\n",
      " [ 2.63100469 -1.69779691 -0.07391023]]\n",
      "The corresponding dot product is- \n",
      "[[-0.50190454 -0.13248924  0.5760697 ]\n",
      " [ 2.81561359 -1.03289743 -1.09451543]\n",
      " [-0.09176453 -0.5940295   2.69809459]]\n",
      "The corresponding diagnol elements are- \n",
      "[-0.50190454 -1.03289743  2.69809459]\n"
     ]
    }
   ],
   "source": [
    "u=np.random.randn(3,3)#creates a random matrix of given order\n",
    "print(\"The first 3X3 array is- \")\n",
    "print(u)\n",
    "v=np.random.randn(3,3)\n",
    "print(\"The second 3X3 array is- \")\n",
    "print(v)\n",
    "w=np.dot(u,v)#computes the dot product of two given matrices\n",
    "print(\"The corresponding dot product is- \")\n",
    "print(w)\n",
    "z=np.diag(w)#choose the diagnol elements of given matrix\n",
    "print(\"The corresponding diagnol elements are- \")\n",
    "print(z)"
   ]
  },
  {
   "cell_type": "markdown",
   "metadata": {},
   "source": [
    "# 13.How to find the most frequent value in an array?"
   ]
  },
  {
   "cell_type": "code",
   "execution_count": 16,
   "metadata": {},
   "outputs": [
    {
     "data": {
      "text/plain": [
       "6"
      ]
     },
     "execution_count": 16,
     "metadata": {},
     "output_type": "execute_result"
    }
   ],
   "source": [
    "k=np.array([1,2,3,3,5,3,6,6,7,6,6,8])\n",
    "np.argmax(np.bincount(k))#finds the value that is repeated maximum number of times in a given array"
   ]
  },
  {
   "cell_type": "markdown",
   "metadata": {},
   "source": [
    "# 14.How to get the n largest values of an array?"
   ]
  },
  {
   "cell_type": "code",
   "execution_count": 19,
   "metadata": {},
   "outputs": [
    {
     "name": "stdout",
     "output_type": "stream",
     "text": [
      "Enter the value of n:4\n",
      "The 4 largest value of the array are:\n",
      "[999 998 997 996]\n"
     ]
    }
   ],
   "source": [
    "M=np.arange(1000)#generates a sequential array with numbers 0 to 999\n",
    "np.random.shuffle(M)\n",
    "n=int(input(\"Enter the value of n:\"))\n",
    "print(\"The\",n,\"largest value of the array are:\")\n",
    "print (M[np.argpartition(-M,n)[:n]])#prints the n largest values in the specified array"
   ]
  },
  {
   "cell_type": "markdown",
   "metadata": {},
   "source": [
    "# 15.How to create a record array from a regular array?"
   ]
  },
  {
   "cell_type": "code",
   "execution_count": 20,
   "metadata": {},
   "outputs": [
    {
     "name": "stdout",
     "output_type": "stream",
     "text": [
      "Original array:\n",
      "[['Pranjul' '88.5' '90']\n",
      " ['Manjeet' '87' '99']\n",
      " ['Abdul' '85.5' '91']]\n",
      "\n",
      "Record array:\n",
      "[(b'Pranjul', 88.5, 90) (b'Manjeet', 87. , 99) (b'Abdul', 85.5, 91)]\n"
     ]
    },
    {
     "data": {
      "text/plain": [
       "numpy.recarray"
      ]
     },
     "execution_count": 20,
     "metadata": {},
     "output_type": "execute_result"
    }
   ],
   "source": [
    "reg_arr = np.array([[\"Pranjul\", 88.5, 90],[\"Manjeet\", 87, 99],[\"Abdul\", 85.5, 91]])#generates a 2D array\n",
    "print(\"Original array:\")\n",
    "print(reg_arr)\n",
    "print(\"\\nRecord array:\")\n",
    "rec_arr = np.core.records.fromarrays(reg_arr.T,names='col1, col2, col3',formats = 'S80, f8, i8')# generates a reccord array\n",
    "print(rec_arr)\n",
    "type(rec_arr)"
   ]
  }
 ],
 "metadata": {
  "kernelspec": {
   "display_name": "Python 3",
   "language": "python",
   "name": "python3"
  },
  "language_info": {
   "codemirror_mode": {
    "name": "ipython",
    "version": 3
   },
   "file_extension": ".py",
   "mimetype": "text/x-python",
   "name": "python",
   "nbconvert_exporter": "python",
   "pygments_lexer": "ipython3",
   "version": "3.7.6"
  }
 },
 "nbformat": 4,
 "nbformat_minor": 4
}
