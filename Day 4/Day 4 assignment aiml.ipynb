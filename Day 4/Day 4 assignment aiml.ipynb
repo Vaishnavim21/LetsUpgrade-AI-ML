{
 "cells": [
  {
   "cell_type": "markdown",
   "metadata": {},
   "source": [
    "# Question 1:"
   ]
  },
  {
   "cell_type": "markdown",
   "metadata": {},
   "source": [
    "Research on whether addition, subtraction, multiplication, division, floor division and modulo operations be performed on complex numbers. Based on your study, implement a Python program to demonstrate these operations"
   ]
  },
  {
   "cell_type": "markdown",
   "metadata": {},
   "source": [
    "# Addition,subtraction,multiplication,division can be performed on complex numbers as follows:"
   ]
  },
  {
   "cell_type": "code",
   "execution_count": 31,
   "metadata": {},
   "outputs": [
    {
     "name": "stdout",
     "output_type": "stream",
     "text": [
      "Addition of two complex numbers :  (7-4j)\n",
      "Subtraction of two complex numbers :  (1+10j)\n",
      "Multiplication of two complex numbers :  (33-19j)\n",
      "Division of two complex numbers :  (-0.15517241379310348+0.6379310344827587j)\n"
     ]
    }
   ],
   "source": [
    "print(\"Addition of two complex numbers : \",(4+3j)+(3-7j))\n",
    "print(\"Subtraction of two complex numbers : \",(4+3j)-(3-7j))\n",
    "print(\"Multiplication of two complex numbers : \",(4+3j)*(3-7j))\n",
    "print(\"Division of two complex numbers : \",(4+3j)/(3-7j))"
   ]
  },
  {
   "cell_type": "markdown",
   "metadata": {},
   "source": [
    "Floor division and modulo operations cannot be performed on complex numbers because they are imaginary numbers."
   ]
  },
  {
   "cell_type": "markdown",
   "metadata": {},
   "source": [
    "# Question 2:"
   ]
  },
  {
   "cell_type": "markdown",
   "metadata": {},
   "source": [
    "# Research on range() functions and its parameters. Create a markdown cell and write in your own words what you understand about it. Implement a small program of your choice on the same. "
   ]
  },
  {
   "cell_type": "markdown",
   "metadata": {},
   "source": [
    "The built-in function range() generates the integer numbers between the given start integer to the stop integer, i.e., It returns a range object. Using for loop, we can iterate over a sequence of numbers produced by the range() function."
   ]
  },
  {
   "cell_type": "markdown",
   "metadata": {},
   "source": [
    "The  range(n)  is  of  exclusive  nature  that is  why  it  doesn’t  include the last number in the output.  i.e., The given endpoint  is  never  part of the generated result. For example, range(0, 5) = [ 0,1,2,3,4]. The result  contains numbers  from 0 to up  to 5 but not 5 and the total count is 5. The range(start, stop) not include stop number in the output because the index (i) always starts with 0 in Python."
   ]
  },
  {
   "cell_type": "code",
   "execution_count": 32,
   "metadata": {},
   "outputs": [
    {
     "name": "stdout",
     "output_type": "stream",
     "text": [
      "Python range() example\n",
      "Get numbers from range 0 to 6\n",
      "0, 1, 2, 3, 4, 5, "
     ]
    }
   ],
   "source": [
    "print(\"Python range() example\")\n",
    "print(\"Get numbers from range 0 to 6\")\n",
    "for i in range(6):\n",
    "    print(i, end=', ')"
   ]
  },
  {
   "cell_type": "markdown",
   "metadata": {},
   "source": [
    "A step is an optional argument of a range(). The step is a difference between each number in the result sequence.  If the step size is 2, then the difference between each number is 2. The default size of a step is 1 if not specified. We can perform lots of operations by effectively using step arguments such as reversing a sequence, printing negative ranges."
   ]
  },
  {
   "cell_type": "code",
   "execution_count": 33,
   "metadata": {},
   "outputs": [
    {
     "name": "stdout",
     "output_type": "stream",
     "text": [
      "-2, -1, 0, 1, 2, 3, 4, "
     ]
    }
   ],
   "source": [
    "for num in range(-2, 5, 1):\n",
    "    print(num, end=\", \")"
   ]
  },
  {
   "cell_type": "markdown",
   "metadata": {},
   "source": [
    "If you execute print( type( range(10) ) ) you will get <class 'range'> as output. Python range() function doesn’t return a list type. It returns a range object, i.e., sequence object of type range, So as a result, we get an immutable sequence object of integers.\n",
    "\n",
    "We can convert the output of a range() to the Python list."
   ]
  },
  {
   "cell_type": "code",
   "execution_count": 34,
   "metadata": {},
   "outputs": [
    {
     "name": "stdout",
     "output_type": "stream",
     "text": [
      "Converting python range() to list\n",
      "printing list [2, 4, 6, 8]\n"
     ]
    }
   ],
   "source": [
    "print(\"Converting python range() to list\")\n",
    "even_list = list( range(2, 10, 2))\n",
    "print(\"printing list\", even_list)"
   ]
  },
  {
   "cell_type": "markdown",
   "metadata": {},
   "source": [
    "If you want to print the sequence of numbers within range by descending order or reverse order in Python then its possible, there are two ways to do this.\n",
    "\n",
    "The first is to use a negative or down step value. i.e., set the step argument of a range() to -1. For example, if you want to display a number sequence like [5, 4, 3, 2, 1, 0] i.e., we want reverse iteration or backward iteration of for loop with range() function.\n",
    "\n",
    "Let’s see how to loop backward using indices in Python to display a range of numbers from 5 to 0."
   ]
  },
  {
   "cell_type": "code",
   "execution_count": 35,
   "metadata": {},
   "outputs": [
    {
     "name": "stdout",
     "output_type": "stream",
     "text": [
      "Displaying a range of numbers by reverse order\n",
      "5, 4, 3, 2, 1, 0, "
     ]
    }
   ],
   "source": [
    "print (\"Displaying a range of numbers by reverse order\")\n",
    "for i in range(5, -1, -1):\n",
    "    print (i, end=', ')"
   ]
  },
  {
   "cell_type": "markdown",
   "metadata": {},
   "source": [
    "# Question 3:"
   ]
  },
  {
   "cell_type": "markdown",
   "metadata": {},
   "source": [
    "Consider two numbers. Perform their subtraction and if the result of subtraction is greater than 25, print their multiplication result else print their division result"
   ]
  },
  {
   "cell_type": "code",
   "execution_count": 36,
   "metadata": {},
   "outputs": [
    {
     "name": "stdout",
     "output_type": "stream",
     "text": [
      "subtraction of p and q is 50\n",
      "multiplication of p and q is 15000\n"
     ]
    }
   ],
   "source": [
    "#if the subtraction result is greater than 25 then\n",
    "p=150\n",
    "q=100\n",
    "print(\"subtraction of p and q is\",p-q )\n",
    "\n",
    "if (p-q)>25:\n",
    "    print(\"multiplication of p and q is\",p*q)\n",
    "else:\n",
    "    print(\"division of p and q is \",p/q)"
   ]
  },
  {
   "cell_type": "code",
   "execution_count": 37,
   "metadata": {},
   "outputs": [
    {
     "name": "stdout",
     "output_type": "stream",
     "text": [
      "subtraction of p and q is 15\n",
      "division of p and q is  1.1764705882352942\n"
     ]
    }
   ],
   "source": [
    "#if the subtraction result is less than 25 then\n",
    "p=100\n",
    "q=85\n",
    "print(\"subtraction of p and q is\",p-q )\n",
    "\n",
    "if (p-q)>25:\n",
    "    print(\"multiplication of p and q is\",p*q)\n",
    "else:\n",
    "    print(\"division of p and q is \",p/q)"
   ]
  },
  {
   "cell_type": "markdown",
   "metadata": {},
   "source": [
    "# Question 4:"
   ]
  },
  {
   "cell_type": "markdown",
   "metadata": {},
   "source": [
    "Consider a list of 10 elements of integer values. If the number in the list is divisible by 2, print the result as \n",
    "\"square of that number minus 2\". "
   ]
  },
  {
   "cell_type": "code",
   "execution_count": 38,
   "metadata": {},
   "outputs": [
    {
     "name": "stdout",
     "output_type": "stream",
     "text": [
      "Square of 2 minus 2 : 2\n",
      "Square of 6 minus 2 : 34\n",
      "Square of 10 minus 2 : 98\n",
      "Square of 14 minus 2 : 194\n",
      "Square of 18 minus 2 : 322\n",
      "Square of 20 minus 2 : 398\n"
     ]
    }
   ],
   "source": [
    "a=[2,3,6,7,10,13,14,17,18,20]\n",
    "\n",
    "for n in a:\n",
    "    if(n%2==0):\n",
    "        print(\"Square of {} minus 2 : \".format(n) + str(n**2 - 2))"
   ]
  },
  {
   "cell_type": "markdown",
   "metadata": {},
   "source": [
    "# Question 5:"
   ]
  },
  {
   "cell_type": "markdown",
   "metadata": {},
   "source": [
    "Consider a list of 10 elements. Print all the elements in the list which are greater than 7 when that number is divided 2. "
   ]
  },
  {
   "cell_type": "code",
   "execution_count": 39,
   "metadata": {},
   "outputs": [
    {
     "name": "stdout",
     "output_type": "stream",
     "text": [
      "division of 16 with 2 is greater than 7\n",
      "division of 28 with 2 is greater than 7\n"
     ]
    }
   ],
   "source": [
    "l=[1,2,7,8,9,10,12,14,16,28]\n",
    "\n",
    "for i in l:\n",
    "    if (i/2)>7:\n",
    "        print(\"division of\",i,\"with 2 is greater than 7\")"
   ]
  }
 ],
 "metadata": {
  "kernelspec": {
   "display_name": "Python 3",
   "language": "python",
   "name": "python3"
  },
  "language_info": {
   "codemirror_mode": {
    "name": "ipython",
    "version": 3
   },
   "file_extension": ".py",
   "mimetype": "text/x-python",
   "name": "python",
   "nbconvert_exporter": "python",
   "pygments_lexer": "ipython3",
   "version": "3.7.6"
  }
 },
 "nbformat": 4,
 "nbformat_minor": 4
}
